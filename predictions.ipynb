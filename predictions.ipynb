{
 "cells": [
  {
   "cell_type": "code",
   "execution_count": 26,
   "id": "58d1b5e4",
   "metadata": {},
   "outputs": [],
   "source": [
    "import json\n",
    "import numpy as np\n",
    "from matplotlib import pyplot as plt\n",
    "from datetime import datetime\n",
    "import importlib as imp\n",
    "from statsmodels.tsa.statespace.varmax import VARMAX\n",
    "from tqdm.notebook import tqdm as tqdmn\n",
    "\n",
    "import matplotlib.dates as pltd\n",
    "\n",
    "import prediction_aux as aux"
   ]
  },
  {
   "cell_type": "code",
   "execution_count": 55,
   "id": "f5b82244",
   "metadata": {},
   "outputs": [],
   "source": [
    "import warnings\n",
    "warnings.filterwarnings(\"ignore\")"
   ]
  },
  {
   "cell_type": "markdown",
   "id": "512025eb",
   "metadata": {},
   "source": [
    "# Prediction model test"
   ]
  },
  {
   "cell_type": "code",
   "execution_count": 30,
   "id": "62eca25b",
   "metadata": {},
   "outputs": [],
   "source": [
    "imp.reload(aux)\n",
    "\n",
    "## Input data ##\n",
    "apartment_id = 0\n",
    "appliance = 'Hydractiva_shower'\n",
    "time_interval = 'day'\n",
    "\n",
    "## Plot ##\n",
    "time_series = aux.get_time_series(apartment_id,\n",
    "                                  appliance, time_interval)"
   ]
  },
  {
   "cell_type": "code",
   "execution_count": 31,
   "id": "974f46c5",
   "metadata": {},
   "outputs": [
    {
     "data": {
      "text/plain": [
       "([85.681824,\n",
       "  221.92053800000002,\n",
       "  77.724333,\n",
       "  26.59614,\n",
       "  212.36420600000002,\n",
       "  67.978982,\n",
       "  149.905728,\n",
       "  72.19075000000001,\n",
       "  99.425696,\n",
       "  61.156864999999996,\n",
       "  122.396281,\n",
       "  148.723854,\n",
       "  40.234104,\n",
       "  51.788174,\n",
       "  153.945094,\n",
       "  71.086865,\n",
       "  79.626648,\n",
       "  109.313092,\n",
       "  43.85034,\n",
       "  49.05233,\n",
       "  81.953715,\n",
       "  149.580012,\n",
       "  62.970243,\n",
       "  72.868273,\n",
       "  99.645738,\n",
       "  104.579805,\n",
       "  52.199075,\n",
       "  77.313133,\n",
       "  15.071866,\n",
       "  62.14837300000001,\n",
       "  75.16232600000001,\n",
       "  72.306498,\n",
       "  104.8138406,\n",
       "  101.05655300000001,\n",
       "  65.107163,\n",
       "  88.77661,\n",
       "  97.43314,\n",
       "  8.570151,\n",
       "  83.719741,\n",
       "  159.272529,\n",
       "  8.717906,\n",
       "  30.191904,\n",
       "  27.14737,\n",
       "  70.03209,\n",
       "  30.975822,\n",
       "  100.51817600000001,\n",
       "  25.654327,\n",
       "  20.0696764,\n",
       "  58.870128,\n",
       "  52.20508],\n",
       " [38.069061500000004,\n",
       "  36.511875999999994,\n",
       "  37.9973615,\n",
       "  35.030144,\n",
       "  37.441478599999996,\n",
       "  37.06214466666666,\n",
       "  37.722445199999996,\n",
       "  39.284414999999996,\n",
       "  37.90856366666667,\n",
       "  37.0251405,\n",
       "  37.9416706,\n",
       "  38.44872,\n",
       "  38.880703,\n",
       "  38.726982,\n",
       "  38.6698558,\n",
       "  38.713044,\n",
       "  36.665701,\n",
       "  36.875098,\n",
       "  38.714817,\n",
       "  39.364082,\n",
       "  39.07039866666667,\n",
       "  37.214255800000004,\n",
       "  38.366378499999996,\n",
       "  38.50464899999999,\n",
       "  37.77505933333334,\n",
       "  37.88003666666666,\n",
       "  37.702363000000005,\n",
       "  36.4878515,\n",
       "  37.658806,\n",
       "  38.556534,\n",
       "  37.34749975,\n",
       "  38.45860166666667,\n",
       "  36.73081175,\n",
       "  38.08394225,\n",
       "  38.228873,\n",
       "  37.087935,\n",
       "  36.847052250000004,\n",
       "  39.135292,\n",
       "  36.5184495,\n",
       "  39.1749892,\n",
       "  38.980247,\n",
       "  36.233353,\n",
       "  38.28227,\n",
       "  36.18042433333333,\n",
       "  36.133358,\n",
       "  39.44379333333333,\n",
       "  37.00033,\n",
       "  38.594505,\n",
       "  39.248563999999995,\n",
       "  37.819203],\n",
       " [498.46572000000003,\n",
       "  1342.49352,\n",
       "  412.88885,\n",
       "  126.66841,\n",
       "  1043.780824,\n",
       "  373.70315,\n",
       "  839.34945,\n",
       "  360.40667,\n",
       "  549.2759000000001,\n",
       "  365.67096000000004,\n",
       "  683.118524,\n",
       "  805.59803,\n",
       "  210.31725,\n",
       "  258.14648,\n",
       "  813.8311620000002,\n",
       "  419.09618,\n",
       "  445.47574,\n",
       "  655.419374,\n",
       "  240.85385,\n",
       "  292.63358,\n",
       "  470.85306,\n",
       "  831.5043880000001,\n",
       "  354.31955,\n",
       "  402.72040400000003,\n",
       "  596.24069,\n",
       "  591.3309999999999,\n",
       "  295.10078,\n",
       "  427.42988,\n",
       "  74.61861,\n",
       "  401.89840000000004,\n",
       "  371.847529,\n",
       "  448.38313600000004,\n",
       "  545.5679299999999,\n",
       "  617.273557,\n",
       "  351.82937200000003,\n",
       "  511.59058000000005,\n",
       "  480.9426900000001,\n",
       "  40.23135,\n",
       "  473.46202,\n",
       "  882.432465,\n",
       "  55.62931,\n",
       "  189.5445,\n",
       "  140.29582,\n",
       "  372.743866,\n",
       "  205.9647,\n",
       "  623.19703,\n",
       "  152.92566,\n",
       "  117.805519,\n",
       "  347.110733,\n",
       "  333.7423],\n",
       " [3.0885388000000003,\n",
       "  7.624564639999999,\n",
       "  2.7802379999999998,\n",
       "  0.8697425,\n",
       "  7.4784045400000005,\n",
       "  2.4292259200000004,\n",
       "  5.406780049999999,\n",
       "  2.7195009,\n",
       "  3.4972204500000004,\n",
       "  2.1709487000000003,\n",
       "  4.431326439999999,\n",
       "  5.4438875,\n",
       "  1.4964734,\n",
       "  1.9169294,\n",
       "  5.77726423,\n",
       "  2.6105789,\n",
       "  2.7492659,\n",
       "  3.8271485100000002,\n",
       "  1.6224898,\n",
       "  1.8521225,\n",
       "  3.0767854999999997,\n",
       "  5.459204209999999,\n",
       "  2.3401016,\n",
       "  2.7474549799999997,\n",
       "  3.686548,\n",
       "  3.8675962000000004,\n",
       "  1.9537326,\n",
       "  2.7233268,\n",
       "  0.5566835,\n",
       "  2.3319659,\n",
       "  2.80650268,\n",
       "  2.77255905,\n",
       "  3.7734036,\n",
       "  3.8511447000000003,\n",
       "  2.5569615,\n",
       "  3.2012080000000003,\n",
       "  3.4550650000000003,\n",
       "  0.3313035,\n",
       "  2.9776464000000002,\n",
       "  6.1937624,\n",
       "  0.33543846,\n",
       "  1.0649362,\n",
       "  1.0224416,\n",
       "  2.50042893,\n",
       "  1.0889732,\n",
       "  3.9065642,\n",
       "  0.92784137,\n",
       "  0.7732545000000001,\n",
       "  2.2820523,\n",
       "  1.9376057],\n",
       " [1604876400.0,\n",
       "  1604962800.0,\n",
       "  1605049200.0,\n",
       "  1605135600.0,\n",
       "  1605222000.0,\n",
       "  1605308400.0,\n",
       "  1605394800.0,\n",
       "  1605481200.0,\n",
       "  1605567600.0,\n",
       "  1605654000.0,\n",
       "  1605740400.0,\n",
       "  1605826800.0,\n",
       "  1605913200.0,\n",
       "  1606086000.0,\n",
       "  1606172400.0,\n",
       "  1606258800.0,\n",
       "  1606345200.0,\n",
       "  1606431600.0,\n",
       "  1606604400.0,\n",
       "  1606690800.0,\n",
       "  1606777200.0,\n",
       "  1606863600.0,\n",
       "  1606950000.0,\n",
       "  1607036400.0,\n",
       "  1607122800.0,\n",
       "  1607209200.0,\n",
       "  1607295600.0,\n",
       "  1607382000.0,\n",
       "  1607468400.0,\n",
       "  1607554800.0,\n",
       "  1607641200.0,\n",
       "  1607727600.0,\n",
       "  1607814000.0,\n",
       "  1607900400.0,\n",
       "  1607986800.0,\n",
       "  1608073200.0,\n",
       "  1608159600.0,\n",
       "  1608246000.0,\n",
       "  1608332400.0,\n",
       "  1608418800.0,\n",
       "  1608505200.0,\n",
       "  1608591600.0,\n",
       "  1608678000.0,\n",
       "  1608764400.0,\n",
       "  1608850800.0,\n",
       "  1608937200.0,\n",
       "  1609023600.0,\n",
       "  1609110000.0,\n",
       "  1609196400.0,\n",
       "  1609282800.0])"
      ]
     },
     "execution_count": 31,
     "metadata": {},
     "output_type": "execute_result"
    }
   ],
   "source": [
    "time_series"
   ]
  },
  {
   "cell_type": "code",
   "execution_count": 41,
   "id": "37441dff",
   "metadata": {},
   "outputs": [
    {
     "data": {
      "image/png": "[encoded data removed]",
      "text/plain": [
       "<Figure size 432x288 with 1 Axes>"
      ]
     },
     "metadata": {
      "needs_background": "light"
     },
     "output_type": "display_data"
    }
   ],
   "source": [
    "imp.reload(aux)\n",
    "\n",
    "aux.plot_time_series(time_series[4], time_series[0])"
   ]
  },
  {
   "cell_type": "code",
   "execution_count": 33,
   "id": "e30861cf",
   "metadata": {},
   "outputs": [
    {
     "name": "stderr",
     "output_type": "stream",
     "text": [
      "/Users/alvarogomezinesta/opt/anaconda3/lib/python3.8/site-packages/statsmodels/tsa/statespace/varmax.py:161: EstimationWarning: Estimation of VARMA(p,q) models is not generically robust, due especially to identification issues.\n",
      "  warn('Estimation of VARMA(p,q) models is not generically robust,'\n",
      "/Users/alvarogomezinesta/opt/anaconda3/lib/python3.8/site-packages/statsmodels/base/model.py:566: ConvergenceWarning: Maximum Likelihood optimization failed to converge. Check mle_retvals\n",
      "  warnings.warn(\"Maximum Likelihood optimization failed to \"\n"
     ]
    }
   ],
   "source": [
    "p = 7\n",
    "q = 7\n",
    "\n",
    "time_series_array = list(zip(time_series[0], time_series[1]))\n",
    "\n",
    "# fit model\n",
    "model = VARMAX(time_series_array, order=(p,q))\n",
    "model_fit = model.fit(disp=False)"
   ]
  },
  {
   "cell_type": "code",
   "execution_count": 184,
   "id": "a3260c0e",
   "metadata": {
    "scrolled": false
   },
   "outputs": [
    {
     "name": "stdout",
     "output_type": "stream",
     "text": [
      "[[42.69351728 38.33127356]\n",
      " [78.58235784 38.68814464]\n",
      " [85.56863203 36.93276331]\n",
      " [49.89660203 38.52442063]\n",
      " [75.51598756 37.80338524]\n",
      " [80.47143673 37.34279776]\n",
      " [65.29382821 38.29956737]]\n"
     ]
    }
   ],
   "source": [
    "# make prediction\n",
    "yhat = model_fit.forecast(7)\n",
    "print(yhat)"
   ]
  },
  {
   "cell_type": "code",
   "execution_count": 186,
   "id": "fb8ea77d",
   "metadata": {
    "scrolled": true
   },
   "outputs": [
    {
     "data": {
      "text/plain": [
       "[<matplotlib.lines.Line2D at 0x7fb9cd3467f0>]"
      ]
     },
     "execution_count": 186,
     "metadata": {},
     "output_type": "execute_result"
    },
    {
     "data": {
      "image/png": "[encoded data removed]",
      "text/plain": [
       "<Figure size 432x288 with 1 Axes>"
      ]
     },
     "metadata": {
      "needs_background": "light"
     },
     "output_type": "display_data"
    }
   ],
   "source": [
    "z = 14 # Past days to plot\n",
    "\n",
    "plt.plot(np.arange(z),time_series[0][-z:])\n",
    "plt.plot([z-1,z],[time_series[0][-1],yhat[0,0]],color='tab:orange')\n",
    "plt.plot(np.arange(z,z+7),yhat[:,0],color='tab:orange')"
   ]
  },
  {
   "cell_type": "markdown",
   "id": "29e7191a",
   "metadata": {},
   "source": [
    "# Generate json with data and predictions"
   ]
  },
  {
   "cell_type": "code",
   "execution_count": 59,
   "id": "e44192a6",
   "metadata": {
    "scrolled": true
   },
   "outputs": [
    {
     "data": {
      "application/vnd.jupyter.widget-view+json": {
       "model_id": "b81e45e5e1d84a14b2a6e4c50679259d",
       "version_major": 2,
       "version_minor": 0
      },
      "text/plain": [
       "Apartment:   0%|          | 0/20 [00:00<?, ?it/s]"
      ]
     },
     "metadata": {},
     "output_type": "display_data"
    },
    {
     "data": {
      "application/vnd.jupyter.widget-view+json": {
       "model_id": "",
       "version_major": 2,
       "version_minor": 0
      },
      "text/plain": [
       "--> Appliance:   0%|          | 0/3 [00:00<?, ?it/s]"
      ]
     },
     "metadata": {},
     "output_type": "display_data"
    },
    {
     "data": {
      "application/vnd.jupyter.widget-view+json": {
       "model_id": "",
       "version_major": 2,
       "version_minor": 0
      },
      "text/plain": [
       "--> Appliance:   0%|          | 0/3 [00:00<?, ?it/s]"
      ]
     },
     "metadata": {},
     "output_type": "display_data"
    },
    {
     "data": {
      "application/vnd.jupyter.widget-view+json": {
       "model_id": "",
       "version_major": 2,
       "version_minor": 0
      },
      "text/plain": [
       "--> Appliance:   0%|          | 0/3 [00:00<?, ?it/s]"
      ]
     },
     "metadata": {},
     "output_type": "display_data"
    },
    {
     "data": {
      "application/vnd.jupyter.widget-view+json": {
       "model_id": "",
       "version_major": 2,
       "version_minor": 0
      },
      "text/plain": [
       "--> Appliance:   0%|          | 0/3 [00:00<?, ?it/s]"
      ]
     },
     "metadata": {},
     "output_type": "display_data"
    },
    {
     "data": {
      "application/vnd.jupyter.widget-view+json": {
       "model_id": "",
       "version_major": 2,
       "version_minor": 0
      },
      "text/plain": [
       "--> Appliance:   0%|          | 0/3 [00:00<?, ?it/s]"
      ]
     },
     "metadata": {},
     "output_type": "display_data"
    },
    {
     "data": {
      "application/vnd.jupyter.widget-view+json": {
       "model_id": "",
       "version_major": 2,
       "version_minor": 0
      },
      "text/plain": [
       "--> Appliance:   0%|          | 0/3 [00:00<?, ?it/s]"
      ]
     },
     "metadata": {},
     "output_type": "display_data"
    },
    {
     "data": {
      "application/vnd.jupyter.widget-view+json": {
       "model_id": "",
       "version_major": 2,
       "version_minor": 0
      },
      "text/plain": [
       "--> Appliance:   0%|          | 0/3 [00:00<?, ?it/s]"
      ]
     },
     "metadata": {},
     "output_type": "display_data"
    },
    {
     "data": {
      "application/vnd.jupyter.widget-view+json": {
       "model_id": "",
       "version_major": 2,
       "version_minor": 0
      },
      "text/plain": [
       "--> Appliance:   0%|          | 0/3 [00:00<?, ?it/s]"
      ]
     },
     "metadata": {},
     "output_type": "display_data"
    },
    {
     "data": {
      "application/vnd.jupyter.widget-view+json": {
       "model_id": "",
       "version_major": 2,
       "version_minor": 0
      },
      "text/plain": [
       "--> Appliance:   0%|          | 0/3 [00:00<?, ?it/s]"
      ]
     },
     "metadata": {},
     "output_type": "display_data"
    },
    {
     "data": {
      "application/vnd.jupyter.widget-view+json": {
       "model_id": "",
       "version_major": 2,
       "version_minor": 0
      },
      "text/plain": [
       "--> Appliance:   0%|          | 0/3 [00:00<?, ?it/s]"
      ]
     },
     "metadata": {},
     "output_type": "display_data"
    },
    {
     "data": {
      "application/vnd.jupyter.widget-view+json": {
       "model_id": "",
       "version_major": 2,
       "version_minor": 0
      },
      "text/plain": [
       "--> Appliance:   0%|          | 0/3 [00:00<?, ?it/s]"
      ]
     },
     "metadata": {},
     "output_type": "display_data"
    },
    {
     "data": {
      "application/vnd.jupyter.widget-view+json": {
       "model_id": "",
       "version_major": 2,
       "version_minor": 0
      },
      "text/plain": [
       "--> Appliance:   0%|          | 0/3 [00:00<?, ?it/s]"
      ]
     },
     "metadata": {},
     "output_type": "display_data"
    },
    {
     "data": {
      "application/vnd.jupyter.widget-view+json": {
       "model_id": "",
       "version_major": 2,
       "version_minor": 0
      },
      "text/plain": [
       "--> Appliance:   0%|          | 0/3 [00:00<?, ?it/s]"
      ]
     },
     "metadata": {},
     "output_type": "display_data"
    },
    {
     "data": {
      "application/vnd.jupyter.widget-view+json": {
       "model_id": "",
       "version_major": 2,
       "version_minor": 0
      },
      "text/plain": [
       "--> Appliance:   0%|          | 0/3 [00:00<?, ?it/s]"
      ]
     },
     "metadata": {},
     "output_type": "display_data"
    },
    {
     "data": {
      "application/vnd.jupyter.widget-view+json": {
       "model_id": "",
       "version_major": 2,
       "version_minor": 0
      },
      "text/plain": [
       "--> Appliance:   0%|          | 0/3 [00:00<?, ?it/s]"
      ]
     },
     "metadata": {},
     "output_type": "display_data"
    },
    {
     "data": {
      "application/vnd.jupyter.widget-view+json": {
       "model_id": "",
       "version_major": 2,
       "version_minor": 0
      },
      "text/plain": [
       "--> Appliance:   0%|          | 0/3 [00:00<?, ?it/s]"
      ]
     },
     "metadata": {},
     "output_type": "display_data"
    },
    {
     "data": {
      "application/vnd.jupyter.widget-view+json": {
       "model_id": "",
       "version_major": 2,
       "version_minor": 0
      },
      "text/plain": [
       "--> Appliance:   0%|          | 0/3 [00:00<?, ?it/s]"
      ]
     },
     "metadata": {},
     "output_type": "display_data"
    },
    {
     "data": {
      "application/vnd.jupyter.widget-view+json": {
       "model_id": "",
       "version_major": 2,
       "version_minor": 0
      },
      "text/plain": [
       "--> Appliance:   0%|          | 0/3 [00:00<?, ?it/s]"
      ]
     },
     "metadata": {},
     "output_type": "display_data"
    },
    {
     "data": {
      "application/vnd.jupyter.widget-view+json": {
       "model_id": "",
       "version_major": 2,
       "version_minor": 0
      },
      "text/plain": [
       "--> Appliance:   0%|          | 0/3 [00:00<?, ?it/s]"
      ]
     },
     "metadata": {},
     "output_type": "display_data"
    },
    {
     "data": {
      "application/vnd.jupyter.widget-view+json": {
       "model_id": "",
       "version_major": 2,
       "version_minor": 0
      },
      "text/plain": [
       "--> Appliance:   0%|          | 0/3 [00:00<?, ?it/s]"
      ]
     },
     "metadata": {},
     "output_type": "display_data"
    }
   ],
   "source": [
    "imp.reload(aux)\n",
    "\n",
    "appliances = ['Hydractiva_shower',\n",
    "              'Kitchen_optima_faucet',\n",
    "              'Washing_machine']\n",
    "quantities = ['consumption',\n",
    "              'temperature',\n",
    "              'flowtime',\n",
    "              'power',\n",
    "              'time']\n",
    "\n",
    "# Generate dictionary\n",
    "apartments = {}\n",
    "for i in tqdmn(range(20), 'Apartment'): # Apartment ID\n",
    "    apartments[i] = {}\n",
    "    for a in tqdmn(appliances, '--> Appliance', leave=False):\n",
    "        apartments[i][a] = {}\n",
    "        time_series = aux.get_time_series(i,a,'day',50)\n",
    "        try:\n",
    "            predictions = aux.make_predictions(time_series,7)\n",
    "            pred_ok = True\n",
    "        except:\n",
    "            print('Apt %d, %s - predictions skipped'%(i,a))\n",
    "            pred_ok = False\n",
    "        for j in range(len(quantities)-1):\n",
    "            apartments[i][a][quantities[j]] = time_series[j]\n",
    "            if quantities[j] == 'consumption' and pred_ok:\n",
    "                apartments[i][a]['consumption_predict'] = predictions[0]\n",
    "            elif quantities[j] == 'flowtime' and pred_ok:\n",
    "                apartments[i][a]['flowtime_predict'] = predictions[1]\n",
    "            elif quantities[j] == 'power' and pred_ok:\n",
    "                apartments[i][a]['power_predict'] = predictions[2]\n",
    "        apartments[i][a]['time'] = time_series[-1]"
   ]
  },
  {
   "cell_type": "code",
   "execution_count": 72,
   "id": "ac9662df",
   "metadata": {},
   "outputs": [
    {
     "data": {
      "application/vnd.jupyter.widget-view+json": {
       "model_id": "",
       "version_major": 2,
       "version_minor": 0
      },
      "text/plain": [
       "Apartment:   0%|          | 0/20 [00:00<?, ?it/s]"
      ]
     },
     "metadata": {},
     "output_type": "display_data"
    },
    {
     "data": {
      "application/vnd.jupyter.widget-view+json": {
       "model_id": "",
       "version_major": 2,
       "version_minor": 0
      },
      "text/plain": [
       "--> Appliance:   0%|          | 0/3 [00:00<?, ?it/s]"
      ]
     },
     "metadata": {},
     "output_type": "display_data"
    },
    {
     "data": {
      "application/vnd.jupyter.widget-view+json": {
       "model_id": "",
       "version_major": 2,
       "version_minor": 0
      },
      "text/plain": [
       "--> Appliance:   0%|          | 0/3 [00:00<?, ?it/s]"
      ]
     },
     "metadata": {},
     "output_type": "display_data"
    },
    {
     "data": {
      "application/vnd.jupyter.widget-view+json": {
       "model_id": "",
       "version_major": 2,
       "version_minor": 0
      },
      "text/plain": [
       "--> Appliance:   0%|          | 0/3 [00:00<?, ?it/s]"
      ]
     },
     "metadata": {},
     "output_type": "display_data"
    },
    {
     "data": {
      "application/vnd.jupyter.widget-view+json": {
       "model_id": "",
       "version_major": 2,
       "version_minor": 0
      },
      "text/plain": [
       "--> Appliance:   0%|          | 0/3 [00:00<?, ?it/s]"
      ]
     },
     "metadata": {},
     "output_type": "display_data"
    },
    {
     "data": {
      "application/vnd.jupyter.widget-view+json": {
       "model_id": "",
       "version_major": 2,
       "version_minor": 0
      },
      "text/plain": [
       "--> Appliance:   0%|          | 0/3 [00:00<?, ?it/s]"
      ]
     },
     "metadata": {},
     "output_type": "display_data"
    },
    {
     "data": {
      "application/vnd.jupyter.widget-view+json": {
       "model_id": "",
       "version_major": 2,
       "version_minor": 0
      },
      "text/plain": [
       "--> Appliance:   0%|          | 0/3 [00:00<?, ?it/s]"
      ]
     },
     "metadata": {},
     "output_type": "display_data"
    },
    {
     "data": {
      "application/vnd.jupyter.widget-view+json": {
       "model_id": "",
       "version_major": 2,
       "version_minor": 0
      },
      "text/plain": [
       "--> Appliance:   0%|          | 0/3 [00:00<?, ?it/s]"
      ]
     },
     "metadata": {},
     "output_type": "display_data"
    },
    {
     "data": {
      "application/vnd.jupyter.widget-view+json": {
       "model_id": "",
       "version_major": 2,
       "version_minor": 0
      },
      "text/plain": [
       "--> Appliance:   0%|          | 0/3 [00:00<?, ?it/s]"
      ]
     },
     "metadata": {},
     "output_type": "display_data"
    },
    {
     "data": {
      "application/vnd.jupyter.widget-view+json": {
       "model_id": "",
       "version_major": 2,
       "version_minor": 0
      },
      "text/plain": [
       "--> Appliance:   0%|          | 0/3 [00:00<?, ?it/s]"
      ]
     },
     "metadata": {},
     "output_type": "display_data"
    },
    {
     "data": {
      "application/vnd.jupyter.widget-view+json": {
       "model_id": "",
       "version_major": 2,
       "version_minor": 0
      },
      "text/plain": [
       "--> Appliance:   0%|          | 0/3 [00:00<?, ?it/s]"
      ]
     },
     "metadata": {},
     "output_type": "display_data"
    },
    {
     "data": {
      "application/vnd.jupyter.widget-view+json": {
       "model_id": "",
       "version_major": 2,
       "version_minor": 0
      },
      "text/plain": [
       "--> Appliance:   0%|          | 0/3 [00:00<?, ?it/s]"
      ]
     },
     "metadata": {},
     "output_type": "display_data"
    },
    {
     "data": {
      "application/vnd.jupyter.widget-view+json": {
       "model_id": "",
       "version_major": 2,
       "version_minor": 0
      },
      "text/plain": [
       "--> Appliance:   0%|          | 0/3 [00:00<?, ?it/s]"
      ]
     },
     "metadata": {},
     "output_type": "display_data"
    },
    {
     "data": {
      "application/vnd.jupyter.widget-view+json": {
       "model_id": "",
       "version_major": 2,
       "version_minor": 0
      },
      "text/plain": [
       "--> Appliance:   0%|          | 0/3 [00:00<?, ?it/s]"
      ]
     },
     "metadata": {},
     "output_type": "display_data"
    },
    {
     "data": {
      "application/vnd.jupyter.widget-view+json": {
       "model_id": "",
       "version_major": 2,
       "version_minor": 0
      },
      "text/plain": [
       "--> Appliance:   0%|          | 0/3 [00:00<?, ?it/s]"
      ]
     },
     "metadata": {},
     "output_type": "display_data"
    },
    {
     "data": {
      "application/vnd.jupyter.widget-view+json": {
       "model_id": "",
       "version_major": 2,
       "version_minor": 0
      },
      "text/plain": [
       "--> Appliance:   0%|          | 0/3 [00:00<?, ?it/s]"
      ]
     },
     "metadata": {},
     "output_type": "display_data"
    },
    {
     "data": {
      "application/vnd.jupyter.widget-view+json": {
       "model_id": "",
       "version_major": 2,
       "version_minor": 0
      },
      "text/plain": [
       "--> Appliance:   0%|          | 0/3 [00:00<?, ?it/s]"
      ]
     },
     "metadata": {},
     "output_type": "display_data"
    },
    {
     "data": {
      "application/vnd.jupyter.widget-view+json": {
       "model_id": "",
       "version_major": 2,
       "version_minor": 0
      },
      "text/plain": [
       "--> Appliance:   0%|          | 0/3 [00:00<?, ?it/s]"
      ]
     },
     "metadata": {},
     "output_type": "display_data"
    },
    {
     "data": {
      "application/vnd.jupyter.widget-view+json": {
       "model_id": "",
       "version_major": 2,
       "version_minor": 0
      },
      "text/plain": [
       "--> Appliance:   0%|          | 0/3 [00:00<?, ?it/s]"
      ]
     },
     "metadata": {},
     "output_type": "display_data"
    },
    {
     "data": {
      "application/vnd.jupyter.widget-view+json": {
       "model_id": "",
       "version_major": 2,
       "version_minor": 0
      },
      "text/plain": [
       "--> Appliance:   0%|          | 0/3 [00:00<?, ?it/s]"
      ]
     },
     "metadata": {},
     "output_type": "display_data"
    },
    {
     "data": {
      "application/vnd.jupyter.widget-view+json": {
       "model_id": "",
       "version_major": 2,
       "version_minor": 0
      },
      "text/plain": [
       "--> Appliance:   0%|          | 0/3 [00:00<?, ?it/s]"
      ]
     },
     "metadata": {},
     "output_type": "display_data"
    }
   ],
   "source": [
    "# np.arrays to lists, to make it jsonizable\n",
    "for i in tqdmn(range(20), 'Apartment', leave=False): # Apartment ID\n",
    "    for a in tqdmn(appliances, '--> Appliance', leave=False):\n",
    "        apartments[i][a]['consumption_predict'] = list(apartments[i][a]['consumption_predict'])\n",
    "        apartments[i][a]['flowtime_predict'] = list(apartments[i][a]['flowtime_predict'])\n",
    "        apartments[i][a]['power_predict'] = list(apartments[i][a]['power_predict'])"
   ]
  },
  {
   "cell_type": "code",
   "execution_count": 73,
   "id": "53866962",
   "metadata": {},
   "outputs": [],
   "source": [
    "with open('db_processed.json', 'w') as json_file:\n",
    "    json.dump(apartments, json_file)"
   ]
  }
 ],
 "metadata": {
  "kernelspec": {
   "display_name": "Python 3",
   "language": "python",
   "name": "python3"
  },
  "language_info": {
   "codemirror_mode": {
    "name": "ipython",
    "version": 3
   },
   "file_extension": ".py",
   "mimetype": "text/x-python",
   "name": "python",
   "nbconvert_exporter": "python",
   "pygments_lexer": "ipython3",
   "version": "3.8.8"
  }
 },
 "nbformat": 4,
 "nbformat_minor": 5
}
